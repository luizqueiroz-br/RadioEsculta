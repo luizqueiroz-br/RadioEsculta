{
 "cells": [
  {
   "cell_type": "code",
   "execution_count": 21,
   "metadata": {},
   "outputs": [],
   "source": [
    "import pandas as pd"
   ]
  },
  {
   "cell_type": "code",
   "execution_count": 22,
   "metadata": {},
   "outputs": [],
   "source": [
    "import random\n",
    "\n",
    "def generate_random_hex_color():\n",
    "    # Gera valores aleatórios para vermelho, verde e azul\n",
    "    r = random.randint(0, 255)\n",
    "    g = random.randint(0, 255)\n",
    "    b = random.randint(0, 255)\n",
    "    # Converte esses valores para uma string hexadecimal\n",
    "    hex_color = f'{r:02x}{g:02x}{b:02x}'\n",
    "    return hex_color\n",
    "\n",
    "# Função para ler e processar os dados\n",
    "def process_data(file_path):\n",
    "    data = pd.read_csv(file_path, delimiter='\\s+', header=None, names=[\"Data\", \"Hora\", \"id\", \"lat\", \"long\", \"velocidade\", \"direção\"])\n",
    "    return data # Retorna as últimas 5 entradas\n",
    "\n"
   ]
  },
  {
   "cell_type": "code",
   "execution_count": 23,
   "metadata": {},
   "outputs": [],
   "source": [
    "dt = process_data(file_path='/mnt/d/radio/gcm/DSDPlus.LRRP')"
   ]
  },
  {
   "cell_type": "code",
   "execution_count": 24,
   "metadata": {},
   "outputs": [
    {
     "name": "stdout",
     "output_type": "stream",
     "text": [
      "33\n"
     ]
    }
   ],
   "source": [
    "unic_ids = dt['id'].unique()\n",
    "\n",
    "print(len(unic_id))"
   ]
  },
  {
   "cell_type": "code",
   "execution_count": 25,
   "metadata": {},
   "outputs": [],
   "source": [
    "data = {}\n",
    "for id in unic_ids:\n",
    "    data[id]=generate_random_hex_color()"
   ]
  },
  {
   "cell_type": "code",
   "execution_count": 26,
   "metadata": {},
   "outputs": [
    {
     "data": {
      "text/plain": [
       "{1043: 'e41621',\n",
       " 1036: '49bb96',\n",
       " 1025: 'e70cff',\n",
       " 1033: 'f9c45e',\n",
       " 1042: '671837',\n",
       " 1047: 'b8a23e',\n",
       " 1037: '5fcd3d',\n",
       " 1029: '4b4851',\n",
       " 1030: '37c7b0',\n",
       " 1038: 'ed5fa2',\n",
       " 1007: '758527',\n",
       " 1049: '5dbe94',\n",
       " 2003: 'c909a6',\n",
       " 1039: '8caf73',\n",
       " 1027: '80aa3c',\n",
       " 1022: 'df89ba',\n",
       " 1009: 'bfa07a',\n",
       " 1012: 'e29eb3',\n",
       " 1018: 'c06916',\n",
       " 1032: '1692e3',\n",
       " 1024: 'c4243f',\n",
       " 1019: '8e41ad',\n",
       " 1031: 'c5f9a7',\n",
       " 1016: '05be41',\n",
       " 1010: '72ed96',\n",
       " 1028: '23cd20',\n",
       " 1023: '65c199',\n",
       " 1003: '255dfe',\n",
       " 1021: '199b50',\n",
       " 1026: '1675c9',\n",
       " 1014: '1f95d9',\n",
       " 1005: '64deb1',\n",
       " 1051: 'ccfc84'}"
      ]
     },
     "execution_count": 26,
     "metadata": {},
     "output_type": "execute_result"
    }
   ],
   "source": [
    "data"
   ]
  },
  {
   "cell_type": "code",
   "execution_count": 30,
   "metadata": {},
   "outputs": [],
   "source": [
    "def get_color_by_id(id):\n",
    "    \n",
    "    data = {1043: 'e41621',\n",
    "    1036: '49bb96',\n",
    "    1025: 'e70cff',\n",
    "    1033: 'f9c45e',\n",
    "    1042: '671837',\n",
    "    1047: 'b8a23e',\n",
    "    1037: '5fcd3d',\n",
    "    1029: '4b4851',\n",
    "    1030: '37c7b0',\n",
    "    1038: 'ed5fa2',\n",
    "    1007: '758527',\n",
    "    1049: '5dbe94',\n",
    "    2003: 'c909a6',\n",
    "    1039: '8caf73',\n",
    "    1027: '80aa3c',\n",
    "    1022: 'df89ba',\n",
    "    1009: 'bfa07a',\n",
    "    1012: 'e29eb3',\n",
    "    1018: 'c06916',\n",
    "    1032: '1692e3',\n",
    "    1024: 'c4243f',\n",
    "    1019: '8e41ad',\n",
    "    1031: 'c5f9a7',\n",
    "    1016: '05be41',\n",
    "    1010: '72ed96',\n",
    "    1028: '23cd20',\n",
    "    1023: '65c199',\n",
    "    1003: '255dfe',\n",
    "    1021: '199b50',\n",
    "    1026: '1675c9',\n",
    "    1014: '1f95d9',\n",
    "    1005: '64deb1',\n",
    "    1051: 'ccfc84'}\n",
    "    try:\n",
    "        return data[id]\n",
    "    except Exception as e:\n",
    "        print(e)\n",
    "        return \"00FF00\"  # Verde"
   ]
  },
  {
   "cell_type": "code",
   "execution_count": 31,
   "metadata": {},
   "outputs": [
    {
     "name": "stdout",
     "output_type": "stream",
     "text": [
      "10326\n"
     ]
    },
    {
     "data": {
      "text/plain": [
       "'00FF00'"
      ]
     },
     "execution_count": 31,
     "metadata": {},
     "output_type": "execute_result"
    }
   ],
   "source": [
    "get_color_by_id(10326)"
   ]
  }
 ],
 "metadata": {
  "kernelspec": {
   "display_name": "ambientewisper",
   "language": "python",
   "name": "python3"
  },
  "language_info": {
   "codemirror_mode": {
    "name": "ipython",
    "version": 3
   },
   "file_extension": ".py",
   "mimetype": "text/x-python",
   "name": "python",
   "nbconvert_exporter": "python",
   "pygments_lexer": "ipython3",
   "version": "3.10.12"
  }
 },
 "nbformat": 4,
 "nbformat_minor": 2
}
