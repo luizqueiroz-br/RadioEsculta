{
 "cells": [
  {
   "cell_type": "code",
   "execution_count": 21,
   "metadata": {},
   "outputs": [],
   "source": [
    "import pandas as pd"
   ]
  },
  {
   "cell_type": "code",
   "execution_count": 35,
   "metadata": {},
   "outputs": [
    {
     "name": "stdout",
     "output_type": "stream",
     "text": [
      "https://api.mapbox.com/styles/v1/mapbox/streets-v11/static/path-5+c909a6(-47.29197,-23.27707;-47.29802,-23.28261;-47.29766,-23.2882;-47.28988,-23.28449;-47.28751,-23.27631;-47.28754,-23.27634;-47.28758,-23.27639;-47.28801,-23.27609;-47.2842,-23.28322;-47.28762,-23.26198)/-47.289999,-23.27827,12/800x800?access_token=pk.eyJ1IjoicXVlaXJvenZhbGUiLCJhIjoiY2pwZGhoMGNhMDNvbDNyazIwM3ViMzI0biJ9.fFw10jxOAWBYUZA_Nbd1JA\n",
      "Resposta do servidor ao enviar o mapa do ID 2003: {'ok': True, 'result': {'message_id': 3232, 'from': {'id': 661891149, 'is_bot': True, 'first_name': 'X9', 'username': 'h4Lu1zQu3iroz_bot'}, 'chat': {'id': -1002022196761, 'title': 'MaeRussia', 'type': 'supergroup'}, 'date': 1714911200, 'photo': [{'file_id': 'AgACAgEAAx0EeIhGGQACDKBmN3fgB9_MvqPXOnXT384rfpMIUAACcKwxG6RHuUU8Hi6Z3VMvoQEAAwIAA3MAAzUE', 'file_unique_id': 'AQADcKwxG6RHuUV4', 'file_size': 967, 'width': 90, 'height': 90}, {'file_id': 'AgACAgEAAx0EeIhGGQACDKBmN3fgB9_MvqPXOnXT384rfpMIUAACcKwxG6RHuUU8Hi6Z3VMvoQEAAwIAA20AAzUE', 'file_unique_id': 'AQADcKwxG6RHuUVy', 'file_size': 22355, 'width': 320, 'height': 320}, {'file_id': 'AgACAgEAAx0EeIhGGQACDKBmN3fgB9_MvqPXOnXT384rfpMIUAACcKwxG6RHuUU8Hi6Z3VMvoQEAAwIAA3gAAzUE', 'file_unique_id': 'AQADcKwxG6RHuUV9', 'file_size': 106514, 'width': 800, 'height': 800}], 'caption': 'Mapa da rota para ID 2003'}}\n"
     ]
    }
   ],
   "source": [
    "import requests\n",
    "import pandas as pd\n",
    "import time\n",
    "\n",
    "# Configurações do Mapbox\n",
    "ACCESS_TOKEN = 'pk.eyJ1IjoicXVlaXJvenZhbGUiLCJhIjoiY2pwZGhoMGNhMDNvbDNyazIwM3ViMzI0biJ9.fFw10jxOAWBYUZA_Nbd1JA'  # Substitua pelo seu token de acesso\n",
    "STYLE = 'mapbox/streets-v11'  # Escolha o estilo do mapa desejado\n",
    "\n",
    "file_path = '/mnt/d/radio/gcm/DSDPlus.LRRP'\n",
    "TOKEN = \"661891149:AAHXbPBwMSR5ZIeySyPs-y4L4PvRvzJvozU\"\n",
    "CHAT_ID = \"-1002022196761\"\n",
    "\n",
    "\n",
    "def get_color_by_id(id):\n",
    "    colors = {\n",
    "        1043: 'e41621', 1036: '49bb96', 1025: 'e70cff', 1033: 'f9c45e',\n",
    "        1042: '671837', 1047: 'b8a23e', 1037: '5fcd3d', 1029: '4b4851',\n",
    "        1030: '37c7b0', 1038: 'ed5fa2', 1007: '758527', 1049: '5dbe94',\n",
    "        2003: 'c909a6', 1039: '8caf73', 1027: '80aa3c', 1022: 'df89ba',\n",
    "        1009: 'bfa07a', 1012: 'e29eb3', 1018: 'c06916', 1032: '1692e3',\n",
    "        1024: 'c4243f', 1019: '8e41ad', 1031: 'c5f9a7', 1016: '05be41',\n",
    "        1010: '72ed96', 1028: '23cd20', 1023: '65c199', 1003: '255dfe',\n",
    "        1021: '199b50', 1026: '1675c9', 1014: '1f95d9', 1005: '64deb1',\n",
    "        1051: 'ccfc84'\n",
    "    }\n",
    "    return colors.get(id, \"00FF00\")  # Cor padrão: verde\n",
    "\n",
    "def process_data(file_path):\n",
    "    data = pd.read_csv(file_path, delimiter='\\s+', header=None, names=[\"Data\", \"Hora\", \"id\", \"lat\", \"long\", \"velocidade\", \"direção\"])\n",
    "    data.sort_values(by=['id', 'Data', 'Hora'], inplace=True)\n",
    "    return data.tail(10)\n",
    "\n",
    "def fetch_map_image(data, id, size=\"800x800\"):\n",
    "    coordinates = ';'.join([f\"{row['long']},{row['lat']}\" for index, row in data.iterrows()])\n",
    "    color = get_color_by_id(id)\n",
    "    path = f\"path-5+{color}({coordinates})\"\n",
    "    center_lon = data['long'].mean()\n",
    "    center_lat = data['lat'].mean()\n",
    "    zoom = 12\n",
    "    url = f\"https://api.mapbox.com/styles/v1/{STYLE}/static/{path}/{center_lon},{center_lat},{zoom}/{size}?access_token={ACCESS_TOKEN}\"\n",
    "    print(url)\n",
    "    response = requests.get(url)\n",
    "    if response.status_code == 200:\n",
    "        map_filename = f'map_id_{id}.png'\n",
    "        with open(map_filename, 'wb') as f:\n",
    "            f.write(response.content)\n",
    "        return map_filename\n",
    "    else:\n",
    "        print(f\"Erro ao buscar imagem do mapa para ID {id}:\", response.content)\n",
    "        return None\n",
    "\n",
    "def send_map(token, chat_id, map_file, id):\n",
    "    url = f\"https://api.telegram.org/bot{token}/sendPhoto\"\n",
    "    with open(map_file, \"rb\") as image_file:\n",
    "        files = {'photo': image_file}\n",
    "        data = {'chat_id': chat_id, 'caption': f'Mapa da rota para ID {id}', 'parse_mode': 'Markdown'}\n",
    "        response = requests.post(url, data=data, files=files)\n",
    "        print(f\"Resposta do servidor ao enviar o mapa do ID {id}:\", response.json())\n",
    "\n",
    "# Execução\n",
    "if __name__ == \"__main__\":\n",
    "    data = process_data(file_path)\n",
    "    grouped_data = data.groupby('id')\n",
    "    for id, group in grouped_data:\n",
    "        if group.shape[0] < 2:\n",
    "            continue  # Ignora IDs com menos de dois pontos\n",
    "        map_file = fetch_map_image(group, id)\n",
    "        if map_file:\n",
    "            send_map(TOKEN, CHAT_ID, map_file, id)"
   ]
  },
  {
   "cell_type": "code",
   "execution_count": 29,
   "metadata": {},
   "outputs": [
    {
     "name": "stdout",
     "output_type": "stream",
     "text": [
      "URL do mapa: https://api.mapbox.com/styles/v1/mapbox/streets-v11/static/path-5+c909a6(-47.29071,-23.27157;-47.29589,-23.26637;-47.3071,-23.25616;-47.30705,-23.2561;-47.29576,-23.27065;-47.28914,-23.2802;-47.28913,-23.28032;-47.29193,-23.27714;-47.29191,-23.27719;-47.29195,-23.27716;-47.29197,-23.27707;-47.29802,-23.28261;-47.29766,-23.2882;-47.28988,-23.28449;-47.28751,-23.27631;-47.28754,-23.27634;-47.28758,-23.27639;-47.28801,-23.27609;-47.2842,-23.28322;-47.28762,-23.26198)/-47.292528,-23.274777999999998,12/800x800?access_token=pk.eyJ1IjoicXVlaXJvenZhbGUiLCJhIjoiY2pwZGhoMGNhMDNvbDNyazIwM3ViMzI0biJ9.fFw10jxOAWBYUZA_Nbd1JA\n",
      "Resposta do servidor ao enviar o mapa: {'ok': True, 'result': {'message_id': 3221, 'from': {'id': 661891149, 'is_bot': True, 'first_name': 'X9', 'username': 'h4Lu1zQu3iroz_bot'}, 'chat': {'id': -1002022196761, 'title': 'MaeRussia', 'type': 'supergroup'}, 'date': 1714910487, 'photo': [{'file_id': 'AgACAgEAAx0EeIhGGQACDJVmN3UX23plqfadRHLuLtOmovlt_gACb6wxG6RHuUWEvQhvTcGQ1QEAAwIAA3MAAzUE', 'file_unique_id': 'AQADb6wxG6RHuUV4', 'file_size': 1001, 'width': 90, 'height': 90}, {'file_id': 'AgACAgEAAx0EeIhGGQACDJVmN3UX23plqfadRHLuLtOmovlt_gACb6wxG6RHuUWEvQhvTcGQ1QEAAwIAA20AAzUE', 'file_unique_id': 'AQADb6wxG6RHuUVy', 'file_size': 22725, 'width': 320, 'height': 320}, {'file_id': 'AgACAgEAAx0EeIhGGQACDJVmN3UX23plqfadRHLuLtOmovlt_gACb6wxG6RHuUWEvQhvTcGQ1QEAAwIAA3gAAzUE', 'file_unique_id': 'AQADb6wxG6RHuUV9', 'file_size': 109406, 'width': 800, 'height': 800}], 'caption': 'Mapa das últimas rotas'}}\n"
     ]
    }
   ],
   "source": [
    "data = process_data(file_path)\n",
    "if not data.empty:\n",
    "    map_file = fetch_map_image(data)\n",
    "    if map_file:\n",
    "        send_map(TOKEN, CHAT_ID, map_file)\n",
    "    else:\n",
    "        print(\"Erro ao gerar o mapa.\")\n",
    "else:\n",
    "    print(\"Nenhum dado novo para processar.\")"
   ]
  },
  {
   "cell_type": "code",
   "execution_count": 21,
   "metadata": {},
   "outputs": [
    {
     "data": {
      "text/html": [
       "<div>\n",
       "<style scoped>\n",
       "    .dataframe tbody tr th:only-of-type {\n",
       "        vertical-align: middle;\n",
       "    }\n",
       "\n",
       "    .dataframe tbody tr th {\n",
       "        vertical-align: top;\n",
       "    }\n",
       "\n",
       "    .dataframe thead th {\n",
       "        text-align: right;\n",
       "    }\n",
       "</style>\n",
       "<table border=\"1\" class=\"dataframe\">\n",
       "  <thead>\n",
       "    <tr style=\"text-align: right;\">\n",
       "      <th></th>\n",
       "      <th>Data</th>\n",
       "      <th>Hora</th>\n",
       "      <th>id</th>\n",
       "      <th>lat</th>\n",
       "      <th>long</th>\n",
       "      <th>velocidade</th>\n",
       "      <th>direção</th>\n",
       "    </tr>\n",
       "  </thead>\n",
       "  <tbody>\n",
       "    <tr>\n",
       "      <th>4792</th>\n",
       "      <td>2024/05/04</td>\n",
       "      <td>9:18:14</td>\n",
       "      <td>2003</td>\n",
       "      <td>-23.27634</td>\n",
       "      <td>-47.28754</td>\n",
       "      <td>0.028</td>\n",
       "      <td>52.0</td>\n",
       "    </tr>\n",
       "    <tr>\n",
       "      <th>4806</th>\n",
       "      <td>2024/05/04</td>\n",
       "      <td>9:19:53</td>\n",
       "      <td>2003</td>\n",
       "      <td>-23.27639</td>\n",
       "      <td>-47.28758</td>\n",
       "      <td>0.028</td>\n",
       "      <td>52.0</td>\n",
       "    </tr>\n",
       "    <tr>\n",
       "      <th>4813</th>\n",
       "      <td>2024/05/04</td>\n",
       "      <td>9:21:55</td>\n",
       "      <td>2003</td>\n",
       "      <td>-23.27609</td>\n",
       "      <td>-47.28801</td>\n",
       "      <td>23.484</td>\n",
       "      <td>136.0</td>\n",
       "    </tr>\n",
       "    <tr>\n",
       "      <th>4862</th>\n",
       "      <td>2024/05/04</td>\n",
       "      <td>9:34:07</td>\n",
       "      <td>2003</td>\n",
       "      <td>-23.28322</td>\n",
       "      <td>-47.28420</td>\n",
       "      <td>0.028</td>\n",
       "      <td>286.0</td>\n",
       "    </tr>\n",
       "    <tr>\n",
       "      <th>4944</th>\n",
       "      <td>2024/05/04</td>\n",
       "      <td>9:58:00</td>\n",
       "      <td>2003</td>\n",
       "      <td>-23.26198</td>\n",
       "      <td>-47.28762</td>\n",
       "      <td>47.222</td>\n",
       "      <td>262.0</td>\n",
       "    </tr>\n",
       "  </tbody>\n",
       "</table>\n",
       "</div>"
      ],
      "text/plain": [
       "            Data     Hora    id       lat      long  velocidade  direção\n",
       "4792  2024/05/04  9:18:14  2003 -23.27634 -47.28754       0.028     52.0\n",
       "4806  2024/05/04  9:19:53  2003 -23.27639 -47.28758       0.028     52.0\n",
       "4813  2024/05/04  9:21:55  2003 -23.27609 -47.28801      23.484    136.0\n",
       "4862  2024/05/04  9:34:07  2003 -23.28322 -47.28420       0.028    286.0\n",
       "4944  2024/05/04  9:58:00  2003 -23.26198 -47.28762      47.222    262.0"
      ]
     },
     "execution_count": 21,
     "metadata": {},
     "output_type": "execute_result"
    }
   ],
   "source": [
    "data\n",
    "-47.28754,-23.27634\t\n",
    "-47.28758,-23.27639\t\n",
    "-47.28801,-23.27609"
   ]
  },
  {
   "cell_type": "code",
   "execution_count": 24,
   "metadata": {},
   "outputs": [
    {
     "name": "stdout",
     "output_type": "stream",
     "text": [
      "33\n"
     ]
    }
   ],
   "source": [
    "import pandas as pd\n",
    "import requests\n",
    "\n",
    "# Função para ler os dados\n",
    "def read_data(file_path):\n",
    "    data = pd.read_csv(file_path, names=[\"Datetime\", \"ID\", \"Lat\", \"Long\", \"Speed\"], skiprows=1)\n",
    "    data['Datetime'] = pd.to_datetime(data['Datetime'])\n",
    "    data.sort_values(by='Datetime', inplace=True)\n",
    "    return data\n",
    "\n",
    "# Função para gerar a imagem do mapa usando a API do Mapbox\n",
    "def fetch_map_image(data, style, access_token, size=\"800x800\"):\n",
    "    grouped = data.groupby('ID')\n",
    "    paths = []\n",
    "\n",
    "    for id, group in grouped:\n",
    "        if len(group) < 2:\n",
    "            continue\n",
    "        start_point = group.iloc[0]\n",
    "        end_point = group.iloc[-1]\n",
    "        path = f\"path-5+ff0000({start_point['Long']},{start_point['Lat']},{end_point['Long']},{end_point['Lat']})\"\n",
    "        paths.append(path)\n",
    "\n",
    "    center_lon = data['Long'].mean()\n",
    "    center_lat = data['Lat'].mean()\n",
    "    zoom = 12\n",
    "\n",
    "    all_paths = ','.join(paths)\n",
    "    url = f\"https://api.mapbox.com/styles/v1/{style}/static/{all_paths}/{center_lon},{center_lat},{zoom}/{size}?access_token={access_token}\"\n",
    "    \n",
    "    response = requests.get(url)\n",
    "    if response.status_code == 200:\n",
    "        with open('map.png', 'wb') as f:\n",
    "            f.write(response.content)\n",
    "        return 'map.png'\n",
    "    else:\n",
    "        return \"Failed to fetch map image\"\n",
    "\n",
    "# Configurações\n",
    "STYLE = \"your-mapbox-style-here\"\n",
    "ACCESS_TOKEN = \"your-mapbox-access-token-here\"\n",
    "FILE_PATH = \"your-data-file-path-here.csv\"\n",
    "\n",
    "# Processamento principal\n",
    "data = read_data(FILE_PATH)\n",
    "map_image_file = fetch_map_image(data, STYLE, ACCESS_TOKEN)\n",
    "print(\"Map image is saved as:\", map_image_file)\n"
   ]
  },
  {
   "cell_type": "code",
   "execution_count": null,
   "metadata": {},
   "outputs": [],
   "source": []
  },
  {
   "cell_type": "code",
   "execution_count": 25,
   "metadata": {},
   "outputs": [],
   "source": [
    "data = {}\n",
    "for id in unic_ids:\n",
    "    data[id]=generate_random_hex_color()"
   ]
  },
  {
   "cell_type": "code",
   "execution_count": 26,
   "metadata": {},
   "outputs": [
    {
     "data": {
      "text/plain": [
       "{1043: 'e41621',\n",
       " 1036: '49bb96',\n",
       " 1025: 'e70cff',\n",
       " 1033: 'f9c45e',\n",
       " 1042: '671837',\n",
       " 1047: 'b8a23e',\n",
       " 1037: '5fcd3d',\n",
       " 1029: '4b4851',\n",
       " 1030: '37c7b0',\n",
       " 1038: 'ed5fa2',\n",
       " 1007: '758527',\n",
       " 1049: '5dbe94',\n",
       " 2003: 'c909a6',\n",
       " 1039: '8caf73',\n",
       " 1027: '80aa3c',\n",
       " 1022: 'df89ba',\n",
       " 1009: 'bfa07a',\n",
       " 1012: 'e29eb3',\n",
       " 1018: 'c06916',\n",
       " 1032: '1692e3',\n",
       " 1024: 'c4243f',\n",
       " 1019: '8e41ad',\n",
       " 1031: 'c5f9a7',\n",
       " 1016: '05be41',\n",
       " 1010: '72ed96',\n",
       " 1028: '23cd20',\n",
       " 1023: '65c199',\n",
       " 1003: '255dfe',\n",
       " 1021: '199b50',\n",
       " 1026: '1675c9',\n",
       " 1014: '1f95d9',\n",
       " 1005: '64deb1',\n",
       " 1051: 'ccfc84'}"
      ]
     },
     "execution_count": 26,
     "metadata": {},
     "output_type": "execute_result"
    }
   ],
   "source": [
    "data"
   ]
  },
  {
   "cell_type": "code",
   "execution_count": 30,
   "metadata": {},
   "outputs": [],
   "source": []
  },
  {
   "cell_type": "code",
   "execution_count": 31,
   "metadata": {},
   "outputs": [
    {
     "name": "stdout",
     "output_type": "stream",
     "text": [
      "10326\n"
     ]
    },
    {
     "data": {
      "text/plain": [
       "'00FF00'"
      ]
     },
     "execution_count": 31,
     "metadata": {},
     "output_type": "execute_result"
    }
   ],
   "source": [
    "get_color_by_id(10326)"
   ]
  },
  {
   "cell_type": "code",
   "execution_count": null,
   "metadata": {},
   "outputs": [],
   "source": []
  }
 ],
 "metadata": {
  "kernelspec": {
   "display_name": "ambientewisper",
   "language": "python",
   "name": "python3"
  },
  "language_info": {
   "codemirror_mode": {
    "name": "ipython",
    "version": 3
   },
   "file_extension": ".py",
   "mimetype": "text/x-python",
   "name": "python",
   "nbconvert_exporter": "python",
   "pygments_lexer": "ipython3",
   "version": "3.10.12"
  }
 },
 "nbformat": 4,
 "nbformat_minor": 2
}
